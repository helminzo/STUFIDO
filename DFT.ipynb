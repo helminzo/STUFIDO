{
 "cells": [
  {
   "cell_type": "code",
   "execution_count": 5,
   "metadata": {},
   "outputs": [],
   "source": [
    "import numpy as np\n",
    "import matplotlib.pyplot as plt "
   ]
  },
  {
   "cell_type": "markdown",
   "metadata": {},
   "source": [
    "# Discrete Fourier Transform in Python using NumPy\n",
    "___\n",
    "_Note: The vectors and matrices that appear in this notebook are 0-indexed. This makes life easier_    \n",
    "The discrete Fourier transform of a vector $y$ with $n$ elements is the vector $c$ such that $y = Fc$, where $F$ is the Fourier matrix of order $n$.   \n",
    "   \n",
    "The Fourier matrix is a symmetric matrix whose elements are given by\n",
    "$F_{ij} = \\omega^{ij},\\;\\;\\omega = e^{i\\frac{2\\pi}{n}}$   \n",
    "The vector $c$ contains the fourier coefficients, ie $c_k$ is the amplitude of $e^{i\\frac{2k\\pi}{n}}$ in $y$   \n",
    "When written explicitly, the Fourier matrix is of the form \n",
    "$$\n",
    "F = \\;\\begin{bmatrix}\n",
    "       1 & 1 & 1 & \\dots & 1 \\\\\n",
    "       1 & \\omega & \\omega^2 & \\dots & \\omega^{n-1} \\\\\n",
    "       1 & \\omega^2 & \\omega^4 & \\dots & \\omega^{2(n-1)} \\\\\n",
    "       \\vdots & \\vdots & \\vdots & \\ddots &  \\\\\n",
    "       1 & \\omega^{n-1} & \\omega^{2(n-1)} & \\dots & \\omega^{(n-1)^2} \\\\\n",
    "       \\end{bmatrix}\n",
    "$$\n",
    "We would like to find $ c = F^{-1}y$   \n",
    "Fortunately for us, this is easily done as $F^{-1} = \\frac{1}{n} F^{*}$   \n",
    "Notice that   \n",
    "$F_{ij} = \\cos(\\frac{2\\pi ij}{n}) + i\\sin(\\frac{2\\pi ij}{n})$  and \n",
    "   \n",
    "$F^{-1}_{ij} = \\frac{1}{n}(\\cos(\\frac{2\\pi ij}{n}) - i\\sin(\\frac{2\\pi ij}{n}))$   \n",
    "   \n",
    "This allows us to split $F^{-1}$ as follows\n",
    "$$\n",
    "F^{-1} = \\frac{1}{n}\\;\\begin{bmatrix}\n",
    "       1 & 1 & 1 & \\dots & 1 \\\\\n",
    "       1 & \\cos(\\frac{2 \\pi}{n}) & \\cos(\\frac{4 \\pi}{n}) & \\dots & \\cos(\\frac{2(n-1) \\pi}{n}) \\\\\n",
    "       1 & \\cos(\\frac{4 \\pi}{n}) & \\cos(\\frac{8 \\pi}{n}) & \\dots & \\cos(\\frac{4(n-1) \\pi}{n}) \\\\\n",
    "       \\vdots & \\vdots & \\vdots & \\ddots &  \\\\\n",
    "       1 & \\cos(\\frac{2(n-1) \\pi}{n}) & cos(\\frac{4(n-1) \\pi}{n}) & \\dots & cos(\\frac{(n-1)^2 \\pi}{n}) \\\\\n",
    "       \\end{bmatrix}\n",
    "       \\;\\;-\\frac{1}{n}\\;\\; i\n",
    "       \\begin{bmatrix}\n",
    "       0 & 0 & 0 & \\dots & 0 \\\\\n",
    "       0 & \\sin(\\frac{2 \\pi}{n}) & \\sin(\\frac{4 \\pi}{n}) & \\dots & \\sin(\\frac{2(n-1) \\pi}{n}) \\\\\n",
    "       0 & \\sin(\\frac{4 \\pi}{n}) & \\sin(\\frac{8 \\pi}{n}) & \\dots & \\sin(\\frac{4(n-1) \\pi}{n}) \\\\\n",
    "       \\vdots & \\vdots & \\vdots & \\ddots &  \\\\\n",
    "       0 & \\sin(\\frac{2(n-1) \\pi}{n}) & \\sin(\\frac{4(n-1) \\pi}{n}) & \\dots & \\sin\\frac{(n-1)^2 \\pi}{n}) \\\\\n",
    "       \\end{bmatrix}\n",
    "$$\n",
    "<br>  \n",
    "For the sake of brevity, we write the above as  \n",
    "$$\n",
    "F^{-1} = F_1 + iF_2\\\\\n",
    "c = F^{-1}y = F_1y + iF_2y\n",
    "$$\n",
    "   \n",
    "$c$ is a complex vector, but the real part is solely due to the cosine matrix $F_1$ and the imaginary part is solely due to the sine matrix $F_2$   \n",
    "Thus, the amplitudes of $\\cos(\\frac{2 \\pi k}{n})$  and $\\sin(\\frac{2 \\pi k}{n})$ are given by the real and imaginary parts of $c_k$ respectively.   \n",
    "Our problem of finding the fourier coefficients has been reduced to the multiplication of a matrix and a vector which is completed in $O(n^2)$   \n",
    "Let us proceed to coding this \"slow\" Fourier transform in python"
   ]
  },
  {
   "cell_type": "code",
   "execution_count": 6,
   "metadata": {},
   "outputs": [],
   "source": [
    "def slow_ft(y): # y is the array of function values\n",
    "    n = len(y)\n",
    "    omega = np.exp(0+2*np.pi/n*1j)\n",
    "    c = []\n",
    "    for i in range(n):\n",
    "        c.append(0)\n",
    "        for j in range(n):\n",
    "            c[-1] += omega**(-i*j)*y[j]\n",
    "    cos_coeffs = np.array([coeff.real for coeff in c])/n\n",
    "    sine_coeffs = np.array([coeff.imag for coeff in c])/n\n",
    "    return (cos_coeffs, sine_coeffs)"
   ]
  },
  {
   "cell_type": "markdown",
   "metadata": {},
   "source": [
    "To test our function, let us try to approximate $y= e^{-|x|}$, $-5 \\leq x \\leq 5$"
   ]
  },
  {
   "cell_type": "code",
   "execution_count": 8,
   "metadata": {},
   "outputs": [
    {
     "data": {
      "image/png": "[encoded data removed]",
      "text/plain": [
       "<Figure size 432x288 with 1 Axes>"
      ]
     },
     "metadata": {
      "needs_background": "light"
     },
     "output_type": "display_data"
    }
   ],
   "source": [
    "x = np.linspace(-5,5,10) # Get 10 evenly spaced points between -5 and 5 inclusive\n",
    "y = np.exp(-abs(x))\n",
    "c = slow_ft(y)\n",
    "plt.plot(y) # Plot the y values. When no x-values are provided matplotlib assumes x = 0,1,2,....\n",
    "n = len(y)\n",
    "y_app = np.zeros(y.shape) # initialize the approximation to zeros\n",
    "x_0 = np.arange(n)\n",
    "for i in range(0, n):\n",
    "    y_app += np.cos(2*np.pi/n*i*(x_0))*c[0][i]\n",
    "    y_app += np.sin(2*np.pi/n*i*(x_0))*c[1][i]\n",
    "plt.plot(y_app)\n",
    "plt.show()"
   ]
  },
  {
   "cell_type": "markdown",
   "metadata": {},
   "source": [
    "But alas! The graph seems to be shifted in the x direction! What's wrong here?"
   ]
  },
  {
   "cell_type": "code",
   "execution_count": null,
   "metadata": {},
   "outputs": [],
   "source": []
  }
 ],
 "metadata": {
  "kernelspec": {
   "display_name": "Python 3",
   "language": "python",
   "name": "python3"
  },
  "language_info": {
   "codemirror_mode": {
    "name": "ipython",
    "version": 3
   },
   "file_extension": ".py",
   "mimetype": "text/x-python",
   "name": "python",
   "nbconvert_exporter": "python",
   "pygments_lexer": "ipython3",
   "version": "3.7.1"
  }
 },
 "nbformat": 4,
 "nbformat_minor": 4
}
